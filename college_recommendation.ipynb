{
 "cells": [
  {
   "cell_type": "markdown",
   "id": "ea25fa65",
   "metadata": {},
   "source": [
    "# College Recommendation System\n",
    "This notebook predicts the best college for a student based on their CET marks using a Decision Tree Classifier."
   ]
  },
  {
   "cell_type": "code",
   "execution_count": null,
   "id": "31c337ea",
   "metadata": {},
   "outputs": [],
   "source": [
    "import pandas as pd\n",
    "from sklearn.tree import DecisionTreeClassifier\n",
    "import streamlit as st\n"
   ]
  },
  {
   "cell_type": "code",
   "execution_count": null,
   "id": "c965cd68",
   "metadata": {},
   "outputs": [],
   "source": [
    "# Load the dataset\n",
    "df = pd.read_csv('college_data.csv')\n",
    "\n",
    "# Mapping categorical data to numerical values\n",
    "college_mapping = {name: idx for idx, name in enumerate(df['College Name'].unique())}\n",
    "branch_mapping = {branch: idx for idx, branch in enumerate(df['Branch'].unique())}\n",
    "\n",
    "df['College_ID'] = df['College Name'].map(college_mapping)\n",
    "df['Branch_ID'] = df['Branch'].map(branch_mapping)\n"
   ]
  },
  {
   "cell_type": "code",
   "execution_count": null,
   "id": "fed68e58",
   "metadata": {},
   "outputs": [],
   "source": [
    "# Prepare data\n",
    "X = df[['Cutoff Score']]\n",
    "y = df['College_ID']\n",
    "\n",
    "# Train the model\n",
    "model = DecisionTreeClassifier(random_state=0)\n",
    "model.fit(X, y)\n"
   ]
  },
  {
   "cell_type": "code",
   "execution_count": null,
   "id": "4dea2e8e",
   "metadata": {},
   "outputs": [],
   "source": [
    "def recommend_college(marks):\n",
    "    predicted_college_id = model.predict([[marks]])[0]\n",
    "    recommended_college = list(college_mapping.keys())[list(college_mapping.values()).index(predicted_college_id)]\n",
    "    return recommended_college\n"
   ]
  },
  {
   "cell_type": "code",
   "execution_count": null,
   "id": "c258fb54",
   "metadata": {},
   "outputs": [],
   "source": [
    "def main():\n",
    "    st.title('CET College Recommendation System')\n",
    "\n",
    "    cet_marks = st.number_input('Enter your CET marks:', min_value=0, max_value=200, step=1)\n",
    "\n",
    "    if cet_marks:\n",
    "        college = recommend_college(cet_marks)\n",
    "        st.write(f'Recommended College: **{college}**')\n",
    "\n",
    "if __name__ == '__main__':\n",
    "    main()\n"
   ]
  }
 ],
 "metadata": {
  "language_info": {
   "name": "python"
  }
 },
 "nbformat": 4,
 "nbformat_minor": 5
}
